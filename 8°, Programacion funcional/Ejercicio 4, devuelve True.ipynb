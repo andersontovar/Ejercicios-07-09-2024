{
 "cells": [
  {
   "cell_type": "code",
   "execution_count": 54,
   "metadata": {},
   "outputs": [],
   "source": [
    "def par(numero):\n",
    "    return numero % 2 == 0 # Devuelve un numero solo si el resto es igual a 0\n",
    "\n",
    "def lista_pares(lista):\n",
    "    lista_par = []\n",
    "    for i in lista: # Itera sobre una lista\n",
    "        if par(i): # Aplica la funcion a los elementos de la lista\n",
    "            lista_par.append(i) # Si es par se guarda en una lista\n",
    "    return lista_par"
   ]
  },
  {
   "cell_type": "code",
   "execution_count": 55,
   "metadata": {},
   "outputs": [
    {
     "data": {
      "text/plain": [
       "[2, 4, 6, 8, 10]"
      ]
     },
     "execution_count": 55,
     "metadata": {},
     "output_type": "execute_result"
    }
   ],
   "source": [
    "lista_pares([1,2,3,4,5,6,7,8,9,10])"
   ]
  },
  {
   "cell_type": "code",
   "execution_count": 56,
   "metadata": {},
   "outputs": [],
   "source": [
    "def numero_primo(numero):\n",
    "    primo = True # Se asume que es verdadero\n",
    "\n",
    "    if numero <= 1: # Si numero es igual o menor a 1 NO es primo\n",
    "        primo = False\n",
    "    for i in range(2, numero): # Itera en un rango de 2 a numero\n",
    "        if numero % i == 0: # Si el resto es igual a 0, el numero NO es par\n",
    "            primo = False\n",
    "    return primo # Si el resto es distinto a 0, SI es primo\n",
    "\n",
    "def lista_primos(lista):\n",
    "    lista_true = [] # Nueva lista\n",
    "    for i in lista: # Itera sobre una lista\n",
    "        if numero_primo(i): # Aplica la funcion en cada elemento de la lista\n",
    "            lista_true.append('True') # Si es primo se guarda en la nueva lista como True\n",
    "        else:\n",
    "            lista_true.append('False') # Si no lo es se guarda en la nueva lista como False\n",
    "    return lista_true"
   ]
  },
  {
   "cell_type": "code",
   "execution_count": 57,
   "metadata": {},
   "outputs": [
    {
     "data": {
      "text/plain": [
       "['False',\n",
       " 'True',\n",
       " 'True',\n",
       " 'False',\n",
       " 'True',\n",
       " 'False',\n",
       " 'True',\n",
       " 'False',\n",
       " 'False',\n",
       " 'False',\n",
       " 'True']"
      ]
     },
     "execution_count": 57,
     "metadata": {},
     "output_type": "execute_result"
    }
   ],
   "source": [
    "lista_primos([1,2,3,4,5,6,7,8,9,10,11])"
   ]
  }
 ],
 "metadata": {
  "kernelspec": {
   "display_name": "Python 3",
   "language": "python",
   "name": "python3"
  },
  "language_info": {
   "codemirror_mode": {
    "name": "ipython",
    "version": 3
   },
   "file_extension": ".py",
   "mimetype": "text/x-python",
   "name": "python",
   "nbconvert_exporter": "python",
   "pygments_lexer": "ipython3",
   "version": "3.12.5"
  }
 },
 "nbformat": 4,
 "nbformat_minor": 2
}
