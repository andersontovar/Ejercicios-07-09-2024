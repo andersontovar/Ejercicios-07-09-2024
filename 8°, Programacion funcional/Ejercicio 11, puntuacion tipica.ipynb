{
 "cells": [
  {
   "cell_type": "code",
   "execution_count": 50,
   "metadata": {},
   "outputs": [],
   "source": [
    "import math\n",
    "\n",
    "def puntuacion_atipica(lista_numeros):\n",
    "    if len(lista_numeros) < 2: # Ejecuta el resto del codigo solo si la lista contiene mas de 2 numeros\n",
    "        return print('La lista debe contener por lo menos 2 numeros para calcular la desviacion estandar')\n",
    "    \n",
    "    media = sum(lista_numeros) / len(lista_numeros) # Encuentra la media\n",
    "\n",
    "    numeros_elevados = []\n",
    "    for i in lista_numeros:\n",
    "        elevado = (i - media)**2 # Resta la media a cada uno de los numeros y los eleva al cuadrado\n",
    "        numeros_elevados.append(elevado)\n",
    "    varianza = sum(numeros_elevados) / len(lista_numeros) # Encuentra la varianza\n",
    "\n",
    "    desviacion_estandar = math.sqrt(varianza) # Da la desviacion estandar, buscando la raiz cuadrada de la varianza\n",
    "    valores_atipicos = []\n",
    "    for i in lista_numeros:\n",
    "        z = (i - media) / desviacion_estandar\n",
    "        if z > 3 or z < -3: # Solo si z es mayor a 3 o menor que -3, guarda z en la lista valores atipicos\n",
    "            valores_atipicos.append(round(z, 2))\n",
    "    \n",
    "    if len(valores_atipicos) == 0:\n",
    "        return print('No hay valores atipicos')\n",
    "    else:\n",
    "        return valores_atipicos"
   ]
  },
  {
   "cell_type": "code",
   "execution_count": 51,
   "metadata": {},
   "outputs": [
    {
     "name": "stdout",
     "output_type": "stream",
     "text": [
      "No hay valores atipicos\n"
     ]
    },
    {
     "data": {
      "text/plain": [
       "[3.16]"
      ]
     },
     "execution_count": 51,
     "metadata": {},
     "output_type": "execute_result"
    }
   ],
   "source": [
    "puntuacion_atipica([2,4,6,8,10,12,14,16,18,100])\n",
    "puntuacion_atipica([1, 2, 3, 4, 5, 6, 7, 8, 9, 10, 1000])"
   ]
  }
 ],
 "metadata": {
  "kernelspec": {
   "display_name": "Python 3",
   "language": "python",
   "name": "python3"
  },
  "language_info": {
   "codemirror_mode": {
    "name": "ipython",
    "version": 3
   },
   "file_extension": ".py",
   "mimetype": "text/x-python",
   "name": "python",
   "nbconvert_exporter": "python",
   "pygments_lexer": "ipython3",
   "version": "3.12.5"
  }
 },
 "nbformat": 4,
 "nbformat_minor": 2
}
