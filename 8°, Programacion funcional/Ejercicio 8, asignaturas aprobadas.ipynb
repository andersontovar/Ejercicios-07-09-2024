{
 "cells": [
  {
   "cell_type": "code",
   "execution_count": null,
   "metadata": {},
   "outputs": [],
   "source": [
    "'''\n",
    "Escribir una función reciba un diccionario con las asignaturas y las notas de un alumno y devuelva otro diccionario con las asignaturas en mayúsculas y las calificaciones correspondientes a las notas aprobadas.\n",
    "\n",
    "'''"
   ]
  },
  {
   "cell_type": "code",
   "execution_count": 12,
   "metadata": {},
   "outputs": [],
   "source": [
    "def calificacion(nota): # Verifica que calificacion debe tener la nota\n",
    "    if nota <= 4.9:\n",
    "        return 'RB'\n",
    "    elif nota <= 6.9:\n",
    "        return 'AP'\n",
    "    elif nota <= 8.9:\n",
    "        return 'S'\n",
    "    elif nota <= 10:\n",
    "        return 'SS'\n",
    "    else:\n",
    "        return 'No es posible calificarla'\n",
    "\n",
    "def asignaturas_aprobadas(diccionario):\n",
    "    diccionario_modificado = {}\n",
    "    for i, e in diccionario.items(): # Itera sobre el diccionario\n",
    "        if e >= 5.0: # Si valor es mayor o igual a 5\n",
    "            diccionario_modificado.update({i.upper():calificacion(e)}) # Agrega solo las materias con las notas aprobadas\n",
    "    return diccionario_modificado"
   ]
  },
  {
   "cell_type": "code",
   "execution_count": 13,
   "metadata": {},
   "outputs": [
    {
     "data": {
      "text/plain": [
       "{'MATEMATICAS': 'SS', 'INGLES': 'S', 'BIOLOGIA': 'AP'}"
      ]
     },
     "execution_count": 13,
     "metadata": {},
     "output_type": "execute_result"
    }
   ],
   "source": [
    "asignaturas = {'matematicas':9.4, 'ingles':7.1, 'español':2.7, 'sociales': 4.9, 'biologia': 6.6}\n",
    "asignaturas_aprobadas(asignaturas)"
   ]
  }
 ],
 "metadata": {
  "kernelspec": {
   "display_name": "Python 3",
   "language": "python",
   "name": "python3"
  },
  "language_info": {
   "codemirror_mode": {
    "name": "ipython",
    "version": 3
   },
   "file_extension": ".py",
   "mimetype": "text/x-python",
   "name": "python",
   "nbconvert_exporter": "python",
   "pygments_lexer": "ipython3",
   "version": "3.12.5"
  }
 },
 "nbformat": 4,
 "nbformat_minor": 2
}
