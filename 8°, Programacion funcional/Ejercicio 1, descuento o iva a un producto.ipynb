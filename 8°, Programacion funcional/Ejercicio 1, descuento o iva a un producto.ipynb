{
 "cells": [
  {
   "cell_type": "code",
   "execution_count": 35,
   "metadata": {},
   "outputs": [],
   "source": [
    "def aplicar_descuento(precio, descuento):\n",
    "    return precio - (precio * descuento )/ 100 # Devuelve el precio con el descuento\n",
    "\n",
    "def aplicar_iva(precio, iva):\n",
    "    return precio + (precio * iva) / 100 # Devuelve el precio con el IVA\n",
    "\n",
    "def precio_final_de_la_cesta(canasta, funcion):\n",
    "    total = 0\n",
    "    for i, e in canasta.items(): # Itera sobre el diccionario\n",
    "        total += funcion(i, e) # Aplica a el precio y al porcentaje una funcion determinada\n",
    "    \n",
    "    if funcion == aplicar_descuento:\n",
    "        return print(f'El precio de la compra tras aplicar los descuentos es: {total}')\n",
    "    else:\n",
    "        return print(f'El precio de la compra tras aplicar el IVA es: {total}')\n"
   ]
  },
  {
   "cell_type": "code",
   "execution_count": 36,
   "metadata": {},
   "outputs": [
    {
     "name": "stdout",
     "output_type": "stream",
     "text": [
      "El precio de la compra tras aplicar los descuentos es: 5500.0\n",
      "El precio de la compra tras aplicar el IVA es: 6500.0\n",
      "El precio de la compra tras aplicar los descuentos es: 1349.0\n",
      "El precio de la compra tras aplicar el IVA es: 1851.0\n"
     ]
    }
   ],
   "source": [
    "precio_final_de_la_cesta({1000:15, 2000:10, 3000:5},aplicar_descuento)\n",
    "precio_final_de_la_cesta({1000:15, 2000:10, 3000:5},aplicar_iva)\n",
    "precio_final_de_la_cesta({1000:20, 500:10, 100:1}, aplicar_descuento)\n",
    "precio_final_de_la_cesta({1000:20, 500:10, 100:1}, aplicar_iva)"
   ]
  }
 ],
 "metadata": {
  "kernelspec": {
   "display_name": "Python 3",
   "language": "python",
   "name": "python3"
  },
  "language_info": {
   "codemirror_mode": {
    "name": "ipython",
    "version": 3
   },
   "file_extension": ".py",
   "mimetype": "text/x-python",
   "name": "python",
   "nbconvert_exporter": "python",
   "pygments_lexer": "ipython3",
   "version": "3.12.5"
  }
 },
 "nbformat": 4,
 "nbformat_minor": 2
}
