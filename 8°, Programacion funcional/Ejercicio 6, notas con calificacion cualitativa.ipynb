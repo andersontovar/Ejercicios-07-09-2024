{
 "cells": [
  {
   "cell_type": "code",
   "execution_count": null,
   "metadata": {},
   "outputs": [],
   "source": [
    "'''\n",
    "Escribir una función reciba una lista de notas y devuelva la lista de calificaciones correspondientes a esas notas.\n",
    "\n",
    "0,0 - 4,9 Suspenso (SS)\n",
    "5,0 - 6,9 Aprobado (AP)\n",
    "7,0 - 8,9 Notable (NT)\n",
    "9,0 - 10  Sobresaliente (SB)\n",
    "'''"
   ]
  },
  {
   "cell_type": "code",
   "execution_count": 8,
   "metadata": {},
   "outputs": [
    {
     "data": {
      "text/plain": [
       "['RB',\n",
       " 'RB',\n",
       " 'AP',\n",
       " 'RB',\n",
       " 'S',\n",
       " 'SS',\n",
       " 'RB',\n",
       " 'S',\n",
       " 'AP',\n",
       " 'SS',\n",
       " 'No es posible calificarla']"
      ]
     },
     "execution_count": 8,
     "metadata": {},
     "output_type": "execute_result"
    }
   ],
   "source": [
    "def calificacion_cualitativa(nota): # Verifica que calificacion debe tener la nota\n",
    "    if nota <= 4.9:\n",
    "        return 'RB'\n",
    "    elif nota <= 6.9:\n",
    "        return 'AP'\n",
    "    elif nota <= 8.9:\n",
    "        return 'S'\n",
    "    elif nota <= 10:\n",
    "        return 'SS'\n",
    "    else:\n",
    "        return 'No es posible calificarla'\n",
    "\n",
    "def lista_de_notas(lista_notas):\n",
    "    lista_de_calificacion = []\n",
    "    for i in lista_notas:\n",
    "        lista_de_calificacion.append(calificacion_cualitativa(i)) # Guarda en una lista las calificaciones de las notas\n",
    "    return lista_de_calificacion\n",
    "\n",
    "lista_de_notas([2,3,6,1,7,9,0,8,5,10,34])"
   ]
  }
 ],
 "metadata": {
  "kernelspec": {
   "display_name": "Python 3",
   "language": "python",
   "name": "python3"
  },
  "language_info": {
   "codemirror_mode": {
    "name": "ipython",
    "version": 3
   },
   "file_extension": ".py",
   "mimetype": "text/x-python",
   "name": "python",
   "nbconvert_exporter": "python",
   "pygments_lexer": "ipython3",
   "version": "3.12.5"
  }
 },
 "nbformat": 4,
 "nbformat_minor": 2
}
