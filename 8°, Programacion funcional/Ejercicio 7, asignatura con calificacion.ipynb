{
 "cells": [
  {
   "cell_type": "code",
   "execution_count": 9,
   "metadata": {},
   "outputs": [],
   "source": [
    "def calificacion(nota): # Verifica que calificacion debe tener la nota\n",
    "    if nota <= 4.9:\n",
    "        return 'RB'\n",
    "    elif nota <= 6.9:\n",
    "        return 'AP'\n",
    "    elif nota <= 8.9:\n",
    "        return 'S'\n",
    "    elif nota <= 10:\n",
    "        return 'SS'\n",
    "    else:\n",
    "        return 'No es posible calificarla'\n",
    "    \n",
    "def asignatura_con_calificacion(diccionario):\n",
    "    diccionario_modificado = {}\n",
    "    for i, e in diccionario.items(): # Itera sobre los clave-valor del diccionario\n",
    "        diccionario_modificado.update({i.upper():calificacion(e)}) # Guarda las claves en mayuscula y accede a la anterior funcion con el valor\n",
    "    return diccionario_modificado"
   ]
  },
  {
   "cell_type": "code",
   "execution_count": 11,
   "metadata": {},
   "outputs": [
    {
     "data": {
      "text/plain": [
       "{'MATEMATICAS': 'SS',\n",
       " 'INGLES': 'S',\n",
       " 'ESPAÑOL': 'RB',\n",
       " 'SOCIALES': 'AP',\n",
       " 'BIOLOGIA': 'AP'}"
      ]
     },
     "execution_count": 11,
     "metadata": {},
     "output_type": "execute_result"
    }
   ],
   "source": [
    "asignaturas = {'matematicas':9.4, 'ingles':7.1, 'español':2.7, 'sociales': 5.9, 'biologia': 6.6}\n",
    "asignatura_con_calificacion(asignaturas)"
   ]
  }
 ],
 "metadata": {
  "kernelspec": {
   "display_name": "Python 3",
   "language": "python",
   "name": "python3"
  },
  "language_info": {
   "codemirror_mode": {
    "name": "ipython",
    "version": 3
   },
   "file_extension": ".py",
   "mimetype": "text/x-python",
   "name": "python",
   "nbconvert_exporter": "python",
   "pygments_lexer": "ipython3",
   "version": "3.12.5"
  }
 },
 "nbformat": 4,
 "nbformat_minor": 2
}
