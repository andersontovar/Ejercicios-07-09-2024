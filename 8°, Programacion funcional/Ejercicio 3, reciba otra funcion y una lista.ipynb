{
 "cells": [
  {
   "cell_type": "code",
   "execution_count": 10,
   "metadata": {},
   "outputs": [],
   "source": [
    "def elevado_a_la_dos(lista):\n",
    "    lista_nueva = []\n",
    "    for i in lista:\n",
    "        lista_nueva.append(i**2) # Eleva al cuadrado cada elemento de la lista\n",
    "    return lista_nueva\n",
    "\n",
    "def lista_elevada_a_la_dos(lista):\n",
    "    return elevado_a_la_dos(lista) # Devuelve la funcion anterior"
   ]
  },
  {
   "cell_type": "code",
   "execution_count": 11,
   "metadata": {},
   "outputs": [
    {
     "data": {
      "text/plain": [
       "[1, 4, 9, 16, 25, 36]"
      ]
     },
     "execution_count": 11,
     "metadata": {},
     "output_type": "execute_result"
    }
   ],
   "source": [
    "lista_elevada_a_la_dos({1,2,3,4,5,6})"
   ]
  },
  {
   "cell_type": "code",
   "execution_count": 8,
   "metadata": {},
   "outputs": [],
   "source": [
    "def numero_primo(numero):\n",
    "    primo = True # Verdadero\n",
    "\n",
    "    if numero <= 1: # Si numero es igual o menor que 1, no devuelve nada\n",
    "        return None\n",
    "    for i in range(2, numero): \n",
    "        if numero % i == 0: # Si el resto es igual a 0 significa que NO es primo\n",
    "            primo = False \n",
    "    return primo # Asume que SI es primo\n",
    "\n",
    "def lista_primos(lista):\n",
    "    lista_numeros_primos = []\n",
    "    for i in lista: # Itera sobre la lista\n",
    "        if numero_primo(i): # Verifica si es primo cada elemento de la lista, con la anterior funcion\n",
    "            lista_numeros_primos.append(i) # Si es primo lo guarda en una nueva lista\n",
    "    return lista_numeros_primos"
   ]
  },
  {
   "cell_type": "code",
   "execution_count": 9,
   "metadata": {},
   "outputs": [
    {
     "data": {
      "text/plain": [
       "[2, 3, 5, 7, 11, 13, 17, 19]"
      ]
     },
     "execution_count": 9,
     "metadata": {},
     "output_type": "execute_result"
    }
   ],
   "source": [
    "lista_primos([1,2,3,4,5,6,7,8,9,10,11,12,13,14,15,16,17,18,19,20])"
   ]
  }
 ],
 "metadata": {
  "kernelspec": {
   "display_name": "Python 3",
   "language": "python",
   "name": "python3"
  },
  "language_info": {
   "codemirror_mode": {
    "name": "ipython",
    "version": 3
   },
   "file_extension": ".py",
   "mimetype": "text/x-python",
   "name": "python",
   "nbconvert_exporter": "python",
   "pygments_lexer": "ipython3",
   "version": "3.12.5"
  }
 },
 "nbformat": 4,
 "nbformat_minor": 2
}
