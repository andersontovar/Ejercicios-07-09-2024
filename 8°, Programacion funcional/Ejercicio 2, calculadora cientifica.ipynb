{
 "cells": [
  {
   "cell_type": "code",
   "execution_count": 152,
   "metadata": {},
   "outputs": [],
   "source": [
    "import math\n",
    "\n",
    "def seno(valor):\n",
    "    angulo_radianes = math.radians(valor) # Convierte en radianes el valor\n",
    "    return math.sin(angulo_radianes) # Devuelve el seno del angulo radian\n",
    "def coseno(valor):\n",
    "    angulo_radianes = math.radians(valor)\n",
    "    return math.cos(angulo_radianes) # Devuelve el coseno del angulo radian\n",
    "def tangente(valor):\n",
    "    angulo_radianes = math.radians(valor)\n",
    "    return math.tan(angulo_radianes) # Devuelve el tangente del angulo radian\n",
    "\n",
    "def exponencial(valor):\n",
    "    return math.exp(1) # Devuelve el exponencial\n",
    "\n",
    "def logaritmo_neperiano(valor):\n",
    "    return math.log(1) # Devuelve el logaritmo neperiano\n",
    "\n",
    "def calculadora_cientifica(valor, funcion): # Pide un valor y una funcion a utilizar\n",
    "    for i in range(1, valor + 1): # Aplica cada funcion desde el numero 1 a valor\n",
    "        if funcion == seno:\n",
    "            print(f'Seno({i}) = {seno(i):.3}') # Imprime el resultado de la funcion con 3 decimales\n",
    "        elif funcion == coseno:\n",
    "            print(f' Coseno({i}) = {coseno(i):.3}')\n",
    "        elif funcion == tangente:\n",
    "            print(f'Tangente({i}) = {tangente(i):.3}')\n",
    "        elif funcion == exponencial:\n",
    "            print(f'exponencial({i}) = {exponencial(i):.3}')\n",
    "        elif funcion == logaritmo_neperiano:\n",
    "            print(f'Logaritmo_neperiano({i}) = {logaritmo_neperiano(i):.3}')\n",
    "        else:\n",
    "            print('Funcion no existente')\n"
   ]
  },
  {
   "cell_type": "code",
   "execution_count": 153,
   "metadata": {},
   "outputs": [
    {
     "name": "stdout",
     "output_type": "stream",
     "text": [
      "Seno(1) = 0.0175\n",
      "Seno(2) = 0.0349\n",
      "Seno(3) = 0.0523\n",
      "Seno(4) = 0.0698\n",
      "Seno(5) = 0.0872\n",
      " Coseno(1) = 1.0\n",
      " Coseno(2) = 0.999\n",
      " Coseno(3) = 0.999\n",
      " Coseno(4) = 0.998\n",
      " Coseno(5) = 0.996\n",
      "Tangente(1) = 0.0175\n",
      "Tangente(2) = 0.0349\n",
      "Tangente(3) = 0.0524\n",
      "Tangente(4) = 0.0699\n",
      "Tangente(5) = 0.0875\n",
      "exponencial(1) = 2.72\n",
      "exponencial(2) = 2.72\n",
      "exponencial(3) = 2.72\n",
      "exponencial(4) = 2.72\n",
      "exponencial(5) = 2.72\n",
      "Logaritmo_neperiano(1) = 0.0\n",
      "Logaritmo_neperiano(2) = 0.0\n",
      "Logaritmo_neperiano(3) = 0.0\n",
      "Logaritmo_neperiano(4) = 0.0\n",
      "Logaritmo_neperiano(5) = 0.0\n"
     ]
    }
   ],
   "source": [
    "calculadora_cientifica(5, seno)\n",
    "calculadora_cientifica(5, coseno)\n",
    "calculadora_cientifica(5, tangente)\n",
    "calculadora_cientifica(5, exponencial)\n",
    "calculadora_cientifica(5, logaritmo_neperiano)"
   ]
  }
 ],
 "metadata": {
  "kernelspec": {
   "display_name": "Python 3",
   "language": "python",
   "name": "python3"
  },
  "language_info": {
   "codemirror_mode": {
    "name": "ipython",
    "version": 3
   },
   "file_extension": ".py",
   "mimetype": "text/x-python",
   "name": "python",
   "nbconvert_exporter": "python",
   "pygments_lexer": "ipython3",
   "version": "3.12.5"
  }
 },
 "nbformat": 4,
 "nbformat_minor": 2
}
