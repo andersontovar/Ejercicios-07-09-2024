{
 "cells": [
  {
   "cell_type": "code",
   "execution_count": 1,
   "metadata": {},
   "outputs": [],
   "source": [
    "def longitud_de_palabra(palabra):\n",
    "    longitud = len(palabra) #Guarda en una variable la longitud de una palabra\n",
    "    return longitud\n",
    "\n",
    "def diccionario_de_una_frase(frase):\n",
    "    frase_modificada = frase.split() # Convierte cada palabra de la frase en una cadena de caracteres\n",
    "    diccionario = {}\n",
    "    for i in frase_modificada: # Itera sobre la frase modificadad\n",
    "        diccionario.update({i:longitud_de_palabra(i)}) # Guarda en un diccionario una palabra con su longitud\n",
    "    return diccionario"
   ]
  },
  {
   "cell_type": "code",
   "execution_count": 2,
   "metadata": {},
   "outputs": [
    {
     "data": {
      "text/plain": [
       "{'El': 2,\n",
       " 'éxito': 5,\n",
       " 'es': 2,\n",
       " 'la': 2,\n",
       " 'suma': 4,\n",
       " 'de': 2,\n",
       " 'pequeños': 8,\n",
       " 'esfuerzos': 9,\n",
       " 'repetidos': 9,\n",
       " 'día': 3,\n",
       " 'tras': 4,\n",
       " 'día.': 4}"
      ]
     },
     "execution_count": 2,
     "metadata": {},
     "output_type": "execute_result"
    }
   ],
   "source": [
    "diccionario_de_una_frase(\"El éxito es la suma de pequeños esfuerzos repetidos día tras día.\" )"
   ]
  }
 ],
 "metadata": {
  "kernelspec": {
   "display_name": "Python 3",
   "language": "python",
   "name": "python3"
  },
  "language_info": {
   "codemirror_mode": {
    "name": "ipython",
    "version": 3
   },
   "file_extension": ".py",
   "mimetype": "text/x-python",
   "name": "python",
   "nbconvert_exporter": "python",
   "pygments_lexer": "ipython3",
   "version": "3.12.5"
  }
 },
 "nbformat": 4,
 "nbformat_minor": 2
}
