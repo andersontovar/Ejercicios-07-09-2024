{
 "cells": [
  {
   "cell_type": "code",
   "execution_count": 6,
   "metadata": {},
   "outputs": [],
   "source": [
    "import math # Importa funciones matematicas\n",
    "\n",
    "def modulo_de_un_vector(coordenadas): # Lista con coordenadas\n",
    "    numeros_elevados = []\n",
    "    for i in coordenadas:\n",
    "        elevado = i**2 # Eleva las coordenadas al cuadrado\n",
    "        numeros_elevados.append(elevado)\n",
    "    suma = sum(numeros_elevados) # Suma todas las coordenadas\n",
    "    vector = round(math.sqrt(suma), 2) # Busca la raiz cuadrada de la suma y lo redondea a 2 decimales\n",
    "    return vector"
   ]
  },
  {
   "cell_type": "code",
   "execution_count": 7,
   "metadata": {},
   "outputs": [
    {
     "data": {
      "text/plain": [
       "4.24"
      ]
     },
     "execution_count": 7,
     "metadata": {},
     "output_type": "execute_result"
    }
   ],
   "source": [
    "modulo_de_un_vector([1,2,2,3])"
   ]
  }
 ],
 "metadata": {
  "kernelspec": {
   "display_name": "Python 3",
   "language": "python",
   "name": "python3"
  },
  "language_info": {
   "codemirror_mode": {
    "name": "ipython",
    "version": 3
   },
   "file_extension": ".py",
   "mimetype": "text/x-python",
   "name": "python",
   "nbconvert_exporter": "python",
   "pygments_lexer": "ipython3",
   "version": "3.12.5"
  }
 },
 "nbformat": 4,
 "nbformat_minor": 2
}
